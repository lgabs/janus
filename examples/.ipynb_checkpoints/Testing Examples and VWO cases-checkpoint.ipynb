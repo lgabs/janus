{
 "cells": [
  {
   "cell_type": "markdown",
   "metadata": {},
   "source": [
    "# Imports (make sure to install janus)"
   ]
  },
  {
   "cell_type": "code",
   "execution_count": 2,
   "metadata": {
    "ExecuteTime": {
     "end_time": "2020-12-04T17:16:38.828666Z",
     "start_time": "2020-12-04T17:16:37.999997Z"
    }
   },
   "outputs": [],
   "source": [
    "import janus\n",
    "from janus.stats.experiment import Experiment, Variant\n",
    "import pandas as pd\n",
    "\n",
    "import logging\n",
    "logging.basicConfig(level=logging.INFO)\n",
    "\n",
    "pd.set_option('max_colwidth', -1)"
   ]
  },
  {
   "cell_type": "markdown",
   "metadata": {},
   "source": [
    "## A/A Test from VWO paper\n",
    "\n",
    "\"To begin I ran an A/A test comparing a sales process with a 5% conversion rate\n",
    "and a mean of $\\$25$ revenue/sale. In this example, the standard deviation of the\n",
    "data is $\\$5.6$ (compared to a mean revenue/visitor of $1.25).\n",
    "According to Evan Miller’s t-test calculator at http://www.evanmiller.\n",
    "org/ab-testing/t-test.html, this test will require 4,250 data points (per\n",
    "sample) to resolve a 20% lift.\n",
    "In the simulation, the Bayesian test finished with an average of about 3,292\n",
    "data points (10th/90th percentile 250/7,750). The distribution is plottedin Figure 8\"\n"
   ]
  },
  {
   "cell_type": "code",
   "execution_count": 27,
   "metadata": {},
   "outputs": [
    {
     "data": {
      "text/plain": [
       "<matplotlib.lines.Line2D at 0x7fe80e997048>"
      ]
     },
     "execution_count": 27,
     "metadata": {},
     "output_type": "execute_result"
    },
    {
     "data": {
      "image/png": "[encoded data removed]",
      "text/plain": [
       "<Figure size 432x288 with 1 Axes>"
      ]
     },
     "metadata": {
      "needs_background": "light"
     },
     "output_type": "display_data"
    }
   ],
   "source": [
    "_n = np.random.exponential(25, 10000)\n",
    "mean = np.mean(_n)\n",
    "\n",
    "import matplotlib.pyplot as plt\n",
    "\n",
    "plt.hist(_n)\n",
    "plt.axvline(mean, color='red')"
   ]
  },
  {
   "cell_type": "code",
   "execution_count": 28,
   "metadata": {},
   "outputs": [],
   "source": [
    "import numpy as np\n",
    "\n",
    "size = 1000\n",
    "\n",
    "def get_data(p, size, mu, std):\n",
    "    lambdas = np.random.binomial(1, p, size)\n",
    "    revenues = np.random.exponential(mu, size)\n",
    "    \n",
    "    return (lambdas, revenues)\n",
    "\n",
    "p = 0.05\n",
    "mu_revenue = 25.0\n",
    "std_revenue = 5.6\n",
    "\n",
    "a1_lambda, a1_revenue = get_data(p, size, mu_revenue, std_revenue)\n",
    "a2_lambda, a2_revenue = get_data(p, size, mu_revenue, std_revenue)"
   ]
  },
  {
   "cell_type": "code",
   "execution_count": 29,
   "metadata": {},
   "outputs": [
    {
     "data": {
      "text/html": [
       "<div>\n",
       "<style scoped>\n",
       "    .dataframe tbody tr th:only-of-type {\n",
       "        vertical-align: middle;\n",
       "    }\n",
       "\n",
       "    .dataframe tbody tr th {\n",
       "        vertical-align: top;\n",
       "    }\n",
       "\n",
       "    .dataframe thead tr th {\n",
       "        text-align: left;\n",
       "    }\n",
       "\n",
       "    .dataframe thead tr:last-of-type th {\n",
       "        text-align: right;\n",
       "    }\n",
       "</style>\n",
       "<table border=\"1\" class=\"dataframe\">\n",
       "  <thead>\n",
       "    <tr>\n",
       "      <th></th>\n",
       "      <th>revenue</th>\n",
       "      <th colspan=\"2\" halign=\"left\">sales</th>\n",
       "      <th>conversion</th>\n",
       "    </tr>\n",
       "    <tr>\n",
       "      <th></th>\n",
       "      <th>mean</th>\n",
       "      <th>sum</th>\n",
       "      <th>count</th>\n",
       "      <th></th>\n",
       "    </tr>\n",
       "    <tr>\n",
       "      <th>alternative</th>\n",
       "      <th></th>\n",
       "      <th></th>\n",
       "      <th></th>\n",
       "      <th></th>\n",
       "    </tr>\n",
       "  </thead>\n",
       "  <tbody>\n",
       "    <tr>\n",
       "      <th>A1</th>\n",
       "      <td>25.344765</td>\n",
       "      <td>51</td>\n",
       "      <td>1000</td>\n",
       "      <td>0.051</td>\n",
       "    </tr>\n",
       "    <tr>\n",
       "      <th>A2</th>\n",
       "      <td>24.911666</td>\n",
       "      <td>47</td>\n",
       "      <td>1000</td>\n",
       "      <td>0.047</td>\n",
       "    </tr>\n",
       "  </tbody>\n",
       "</table>\n",
       "</div>"
      ],
      "text/plain": [
       "               revenue sales       conversion\n",
       "                  mean   sum count           \n",
       "alternative                                  \n",
       "A1           25.344765  51    1000  0.051    \n",
       "A2           24.911666  47    1000  0.047    "
      ]
     },
     "execution_count": 29,
     "metadata": {},
     "output_type": "execute_result"
    }
   ],
   "source": [
    "df2 = pd.DataFrame(data={\n",
    "    \"alternative\": ['A1']*size,\n",
    "    \"revenue\": a1_revenue, \n",
    "    \"sales\": a1_lambda\n",
    "})\n",
    "_df2 = pd.DataFrame(data={\n",
    "    \"alternative\": ['A2']*size,\n",
    "    \"revenue\": a2_revenue, \n",
    "    \"sales\": a2_lambda\n",
    "})\n",
    "\n",
    "df2 = pd.concat([df2, _df2])\n",
    "df2['sum_revenue'] = df2['revenue']\n",
    "\n",
    "__df = df2.groupby(\"alternative\").agg({\"revenue\": \"mean\", \"sales\": [\"sum\", \"count\"]})\n",
    "__df[\"conversion\"] =  __df['sales']['sum'] / __df['sales']['count'] \n",
    "\n",
    "__df"
   ]
  },
  {
   "cell_type": "code",
   "execution_count": 30,
   "metadata": {},
   "outputs": [],
   "source": [
    "experiment = Experiment(name=\"A/A Test\",\n",
    "                       keymetrics=['conversion', 'revenue', 'arpu'],\n",
    "                       baseline_variant_name='A1')"
   ]
  },
  {
   "cell_type": "code",
   "execution_count": 31,
   "metadata": {},
   "outputs": [
    {
     "name": "stderr",
     "output_type": "stream",
     "text": [
      "INFO:root:INITIALIZING experiment 'A/A Test' evaluation...\n",
      "INFO:root:consolidating metrics over variants...\n",
      "INFO:root:calculating bayesian statistics over variants for metric conversion\n",
      "INFO:root:sampling data for variant A1...\n",
      "INFO:root:sampling data for variant A2...\n",
      "INFO:root:calculating probability to beat and expected loss for variant A1...\n",
      "INFO:root:calculating probability to beat and expected loss for variant A2...\n",
      "INFO:root:calculating bayesian statistics over variants for metric revenue\n",
      "INFO:root:sampling data for variant A1...\n",
      "INFO:root:sampling data for variant A2...\n",
      "INFO:root:calculating probability to beat and expected loss for variant A1...\n",
      "INFO:root:calculating probability to beat and expected loss for variant A2...\n",
      "INFO:root:calculating bayesian statistics over variants for metric arpu\n",
      "INFO:root:sampling data for variant A1...\n",
      "INFO:root:sampling data for variant A2...\n",
      "INFO:root:calculating probability to beat and expected loss for variant A1...\n",
      "INFO:root:calculating probability to beat and expected loss for variant A2...\n",
      "INFO:root:consolidating final results...\n",
      "INFO:root:consolidating final results for variant A1...\n",
      "INFO:root:consolidating final results for variant A2...\n",
      "INFO:root:FINISHED experiment evaluation.\n"
     ]
    },
    {
     "data": {
      "text/plain": [
       "{'A1': {'users': 1000,\n",
       "  'sales': 51,\n",
       "  'paids': 51,\n",
       "  'revenue': 25344.765165558103,\n",
       "  'conversion': 0.051,\n",
       "  'ticket': 496.95618,\n",
       "  'arpu': 25.34477,\n",
       "  'statistics': {'conversion': {'chance_to_beat': 0.65963,\n",
       "    'expected_loss': 0.0021973301774269333,\n",
       "    'lift': 0.0851063829787233,\n",
       "    'diff': 0.003999999999999997},\n",
       "   'revenue': {'chance_to_beat': 0.375954,\n",
       "    'expected_loss': 59.94820363403642,\n",
       "    'lift': 0.01738538880664109,\n",
       "    'diff': 433.099002073428},\n",
       "   'arpu': {'chance_to_beat': 0.523998,\n",
       "    'expected_loss': 2.6673904657629213,\n",
       "    'lift': 0.017385426187806807,\n",
       "    'diff': 0.4330999999999996}},\n",
       "  'ratio': 0.5},\n",
       " 'A2': {'users': 1000,\n",
       "  'sales': 47,\n",
       "  'paids': 47,\n",
       "  'revenue': 24911.666163484675,\n",
       "  'conversion': 0.047,\n",
       "  'ticket': 530.03545,\n",
       "  'arpu': 24.91167,\n",
       "  'statistics': {'conversion': {'chance_to_beat': 0.34037,\n",
       "    'expected_loss': 0.006181498341976208,\n",
       "    'lift': -0.07843137254901955,\n",
       "    'diff': -0.003999999999999997},\n",
       "   'revenue': {'chance_to_beat': 0.624046,\n",
       "    'expected_loss': 26.851069422616064,\n",
       "    'lift': -0.017088302031773472,\n",
       "    'diff': -433.099002073428},\n",
       "   'arpu': {'chance_to_beat': 0.476002,\n",
       "    'expected_loss': 3.0606801031872637,\n",
       "    'lift': -0.01708833814629207,\n",
       "    'diff': -0.4330999999999996}},\n",
       "  'ratio': 0.5}}"
      ]
     },
     "execution_count": 31,
     "metadata": {},
     "output_type": "execute_result"
    }
   ],
   "source": [
    "experiment.run_experiment(df_results_per_user=df2)"
   ]
  },
  {
   "cell_type": "code",
   "execution_count": 32,
   "metadata": {},
   "outputs": [
    {
     "data": {
      "text/html": [
       "<div>\n",
       "<style scoped>\n",
       "    .dataframe tbody tr th:only-of-type {\n",
       "        vertical-align: middle;\n",
       "    }\n",
       "\n",
       "    .dataframe tbody tr th {\n",
       "        vertical-align: top;\n",
       "    }\n",
       "\n",
       "    .dataframe thead th {\n",
       "        text-align: right;\n",
       "    }\n",
       "</style>\n",
       "<table border=\"1\" class=\"dataframe\">\n",
       "  <thead>\n",
       "    <tr style=\"text-align: right;\">\n",
       "      <th></th>\n",
       "      <th>A1</th>\n",
       "      <th>A2</th>\n",
       "    </tr>\n",
       "  </thead>\n",
       "  <tbody>\n",
       "    <tr>\n",
       "      <th>users</th>\n",
       "      <td>1000</td>\n",
       "      <td>1000</td>\n",
       "    </tr>\n",
       "    <tr>\n",
       "      <th>sales</th>\n",
       "      <td>51</td>\n",
       "      <td>47</td>\n",
       "    </tr>\n",
       "    <tr>\n",
       "      <th>paids</th>\n",
       "      <td>51</td>\n",
       "      <td>47</td>\n",
       "    </tr>\n",
       "    <tr>\n",
       "      <th>revenue</th>\n",
       "      <td>25344.8</td>\n",
       "      <td>24911.7</td>\n",
       "    </tr>\n",
       "    <tr>\n",
       "      <th>conversion</th>\n",
       "      <td>0.051</td>\n",
       "      <td>0.047</td>\n",
       "    </tr>\n",
       "    <tr>\n",
       "      <th>ticket</th>\n",
       "      <td>496.956</td>\n",
       "      <td>530.035</td>\n",
       "    </tr>\n",
       "    <tr>\n",
       "      <th>arpu</th>\n",
       "      <td>25.3448</td>\n",
       "      <td>24.9117</td>\n",
       "    </tr>\n",
       "    <tr>\n",
       "      <th>statistics</th>\n",
       "      <td>{'conversion': {'chance_to_beat': 0.65963, 'expected_loss': 0.0021973301774269333, 'lift': 0.0851063829787233, 'diff': 0.003999999999999997}, 'revenue': {'chance_to_beat': 0.375954, 'expected_loss': 59.94820363403642, 'lift': 0.01738538880664109, 'diff': 433.099002073428}, 'arpu': {'chance_to_beat': 0.523998, 'expected_loss': 2.6673904657629213, 'lift': 0.017385426187806807, 'diff': 0.4330999999999996}}</td>\n",
       "      <td>{'conversion': {'chance_to_beat': 0.34037, 'expected_loss': 0.006181498341976208, 'lift': -0.07843137254901955, 'diff': -0.003999999999999997}, 'revenue': {'chance_to_beat': 0.624046, 'expected_loss': 26.851069422616064, 'lift': -0.017088302031773472, 'diff': -433.099002073428}, 'arpu': {'chance_to_beat': 0.476002, 'expected_loss': 3.0606801031872637, 'lift': -0.01708833814629207, 'diff': -0.4330999999999996}}</td>\n",
       "    </tr>\n",
       "    <tr>\n",
       "      <th>ratio</th>\n",
       "      <td>0.5</td>\n",
       "      <td>0.5</td>\n",
       "    </tr>\n",
       "  </tbody>\n",
       "</table>\n",
       "</div>"
      ],
      "text/plain": [
       "                                                                                                                                                                                                                                                                                                                                                                                                                                A1  \\\n",
       "users       1000                                                                                                                                                                                                                                                                                                                                                                                                                     \n",
       "sales       51                                                                                                                                                                                                                                                                                                                                                                                                                       \n",
       "paids       51                                                                                                                                                                                                                                                                                                                                                                                                                       \n",
       "revenue     25344.8                                                                                                                                                                                                                                                                                                                                                                                                                  \n",
       "conversion  0.051                                                                                                                                                                                                                                                                                                                                                                                                                    \n",
       "ticket      496.956                                                                                                                                                                                                                                                                                                                                                                                                                  \n",
       "arpu        25.3448                                                                                                                                                                                                                                                                                                                                                                                                                  \n",
       "statistics  {'conversion': {'chance_to_beat': 0.65963, 'expected_loss': 0.0021973301774269333, 'lift': 0.0851063829787233, 'diff': 0.003999999999999997}, 'revenue': {'chance_to_beat': 0.375954, 'expected_loss': 59.94820363403642, 'lift': 0.01738538880664109, 'diff': 433.099002073428}, 'arpu': {'chance_to_beat': 0.523998, 'expected_loss': 2.6673904657629213, 'lift': 0.017385426187806807, 'diff': 0.4330999999999996}}   \n",
       "ratio       0.5                                                                                                                                                                                                                                                                                                                                                                                                                      \n",
       "\n",
       "                                                                                                                                                                                                                                                                                                                                                                                                                                       A2  \n",
       "users       1000                                                                                                                                                                                                                                                                                                                                                                                                                           \n",
       "sales       47                                                                                                                                                                                                                                                                                                                                                                                                                             \n",
       "paids       47                                                                                                                                                                                                                                                                                                                                                                                                                             \n",
       "revenue     24911.7                                                                                                                                                                                                                                                                                                                                                                                                                        \n",
       "conversion  0.047                                                                                                                                                                                                                                                                                                                                                                                                                          \n",
       "ticket      530.035                                                                                                                                                                                                                                                                                                                                                                                                                        \n",
       "arpu        24.9117                                                                                                                                                                                                                                                                                                                                                                                                                        \n",
       "statistics  {'conversion': {'chance_to_beat': 0.34037, 'expected_loss': 0.006181498341976208, 'lift': -0.07843137254901955, 'diff': -0.003999999999999997}, 'revenue': {'chance_to_beat': 0.624046, 'expected_loss': 26.851069422616064, 'lift': -0.017088302031773472, 'diff': -433.099002073428}, 'arpu': {'chance_to_beat': 0.476002, 'expected_loss': 3.0606801031872637, 'lift': -0.01708833814629207, 'diff': -0.4330999999999996}}  \n",
       "ratio       0.5                                                                                                                                                                                                                                                                                                                                                                                                                            "
      ]
     },
     "execution_count": 32,
     "metadata": {},
     "output_type": "execute_result"
    }
   ],
   "source": [
    "pd.DataFrame.from_dict(experiment.results)"
   ]
  },
  {
   "cell_type": "markdown",
   "metadata": {},
   "source": [
    "## Simulations\n",
    "\n",
    "\n",
    "\n",
    "We now consider a comparison between a sales process with a conversion rate of\n",
    "5% and 6% in the variant. The revenue/sale is the same ($\\%25$) in both variants.\n",
    "I ran a set of 400 A/B simulations. The threshold of caring ε was chosen\n",
    "to be 2% of the mean visitor value of $1.25, or $0.025. I.e., a $0.025 loss was\n",
    "considered acceptable.\n",
    "In the A/B simulations I ran, the Bayesian test finished with an average of\n",
    "about 3,000 data points. Out of 400 simulations, 95.75% returned the correct\n",
    "result. The 10’th percentile of test durations was 250 samples, the 50’th percentile was 1,500 samples and the 95’th sample was 4,750. See Figure 9 for an\n",
    "illustration.\n",
    "This approximately corresponds to the balanced mode in the tool"
   ]
  },
  {
   "cell_type": "code",
   "execution_count": 33,
   "metadata": {},
   "outputs": [],
   "source": [
    "import numpy as np\n",
    "\n",
    "\n",
    "size = 1500\n",
    "\n",
    "pA = 0.05\n",
    "pB = 0.06\n",
    "mu_revenue = 25.0\n",
    "std_revenue = 5.6\n",
    "epsilon = 0.025\n",
    "\n",
    "\n",
    "def generate_df(size=1500):\n",
    "    a_lambda, a_revenue = get_data(pA, size, mu_revenue, std_revenue)\n",
    "    b_lambda, b_revenue = get_data(pB, size, mu_revenue, std_revenue)\n",
    "\n",
    "    dfA = pd.DataFrame(data={\n",
    "        \"alternative\": ['A']*size,\n",
    "        \"revenue\": a_revenue, \n",
    "        \"sales\": a_lambda\n",
    "    })\n",
    "    dfB = pd.DataFrame(data={\n",
    "        \"alternative\": ['B']*size,\n",
    "        \"revenue\": b_revenue, \n",
    "        \"sales\": b_lambda\n",
    "    })\n",
    "\n",
    "    df3 = pd.concat([dfA, dfB])\n",
    "    df3['sum_revenue'] = df3['revenue']\n",
    "    \n",
    "    return df3"
   ]
  },
  {
   "cell_type": "code",
   "execution_count": 34,
   "metadata": {},
   "outputs": [
    {
     "data": {
      "text/html": [
       "<div>\n",
       "<style scoped>\n",
       "    .dataframe tbody tr th:only-of-type {\n",
       "        vertical-align: middle;\n",
       "    }\n",
       "\n",
       "    .dataframe tbody tr th {\n",
       "        vertical-align: top;\n",
       "    }\n",
       "\n",
       "    .dataframe thead tr th {\n",
       "        text-align: left;\n",
       "    }\n",
       "\n",
       "    .dataframe thead tr:last-of-type th {\n",
       "        text-align: right;\n",
       "    }\n",
       "</style>\n",
       "<table border=\"1\" class=\"dataframe\">\n",
       "  <thead>\n",
       "    <tr>\n",
       "      <th></th>\n",
       "      <th>revenue</th>\n",
       "      <th colspan=\"2\" halign=\"left\">sales</th>\n",
       "      <th>conversion</th>\n",
       "    </tr>\n",
       "    <tr>\n",
       "      <th></th>\n",
       "      <th>mean</th>\n",
       "      <th>sum</th>\n",
       "      <th>count</th>\n",
       "      <th></th>\n",
       "    </tr>\n",
       "    <tr>\n",
       "      <th>alternative</th>\n",
       "      <th></th>\n",
       "      <th></th>\n",
       "      <th></th>\n",
       "      <th></th>\n",
       "    </tr>\n",
       "  </thead>\n",
       "  <tbody>\n",
       "    <tr>\n",
       "      <th>A</th>\n",
       "      <td>26.258238</td>\n",
       "      <td>80</td>\n",
       "      <td>1500</td>\n",
       "      <td>0.053333</td>\n",
       "    </tr>\n",
       "    <tr>\n",
       "      <th>B</th>\n",
       "      <td>24.185375</td>\n",
       "      <td>79</td>\n",
       "      <td>1500</td>\n",
       "      <td>0.052667</td>\n",
       "    </tr>\n",
       "  </tbody>\n",
       "</table>\n",
       "</div>"
      ],
      "text/plain": [
       "               revenue sales       conversion\n",
       "                  mean   sum count           \n",
       "alternative                                  \n",
       "A            26.258238  80    1500  0.053333 \n",
       "B            24.185375  79    1500  0.052667 "
      ]
     },
     "execution_count": 34,
     "metadata": {},
     "output_type": "execute_result"
    }
   ],
   "source": [
    "df3_example = generate_df()\n",
    "__df = df3_example.groupby(\"alternative\").agg({\"revenue\": \"mean\", \"sales\": [\"sum\", \"count\"]})\n",
    "__df[\"conversion\"] =  __df['sales']['sum'] / __df['sales']['count'] \n",
    "\n",
    "__df"
   ]
  },
  {
   "cell_type": "code",
   "execution_count": 10,
   "metadata": {},
   "outputs": [],
   "source": [
    "# !pip install joblib"
   ]
  },
  {
   "cell_type": "markdown",
   "metadata": {},
   "source": [
    "### Changing conversion"
   ]
  },
  {
   "cell_type": "code",
   "execution_count": 35,
   "metadata": {},
   "outputs": [
    {
     "name": "stderr",
     "output_type": "stream",
     "text": [
      "100%|██████████████████████████████████████████████████████████████████████████████████████████████| 100/100 [09:07<00:00,  5.48s/it]\n"
     ]
    }
   ],
   "source": [
    "from tqdm import tqdm\n",
    "import multiprocessing\n",
    "from joblib import Parallel, delayed\n",
    "\n",
    "N_SIMULATIONS = 100\n",
    "\n",
    "logging.basicConfig(level=logging.WARNING)\n",
    "\n",
    "num_cores = multiprocessing.cpu_count()\n",
    "\n",
    "list_of_dataframes = [generate_df() for _ in range(N_SIMULATIONS)]\n",
    "inputs = tqdm(list_of_dataframes)\n",
    "\n",
    "def run_one_experiment(df):\n",
    "    df = df.copy()\n",
    "    experiment = Experiment(name=\"A/B Test\",\n",
    "                           keymetrics=['conversion', 'revenue', 'arpu'],\n",
    "                           baseline_variant_name='A')\n",
    "    results = experiment.run_experiment(df_results_per_user=df)\n",
    "    \n",
    "    # return the winner if some loss that is lower than epsilon, if any\n",
    "    winners = []\n",
    "    for metric in ['conversion', 'revenue', 'arpu']:\n",
    "        lossA = results['A']['statistics'][metric]['expected_loss']\n",
    "        lossB = results['B']['statistics'][metric]['expected_loss']\n",
    "        if lossA < lossB and lossA < epsilon:\n",
    "            winners.append('A')\n",
    "        elif lossB < lossA and lossB < epsilon:\n",
    "            winners.append('B')\n",
    "        else:\n",
    "            winners.append(None)\n",
    "    \n",
    "    return winners\n",
    "        \n",
    "processed_list = Parallel(n_jobs=num_cores)(delayed(run_one_experiment)(df) for df in inputs)"
   ]
  },
  {
   "cell_type": "code",
   "execution_count": 36,
   "metadata": {},
   "outputs": [
    {
     "data": {
      "text/plain": [
       "[['B', None, None],\n",
       " ['B', None, None],\n",
       " ['B', None, None],\n",
       " ['A', None, None],\n",
       " ['B', None, None],\n",
       " ['B', None, None],\n",
       " ['A', None, None],\n",
       " ['B', None, None],\n",
       " ['A', None, None],\n",
       " ['B', None, None]]"
      ]
     },
     "execution_count": 36,
     "metadata": {},
     "output_type": "execute_result"
    }
   ],
   "source": [
    "processed_list[:10]"
   ]
  },
  {
   "cell_type": "code",
   "execution_count": 41,
   "metadata": {},
   "outputs": [
    {
     "name": "stdout",
     "output_type": "stream",
     "text": [
      "B conversion winner: 87.0 %\n",
      "\t simulations with no winner: 0.0%\n",
      "B revenue winner: 0.0 %\n",
      "\t simulations with no winner: 97.0%\n",
      "B arpu winner: 0.0 %\n",
      "\t simulations with no winner: 100.0%\n"
     ]
    }
   ],
   "source": [
    "for i, metric in enumerate(['conversion', 'revenue', 'arpu']):\n",
    "    metric_list = [m[i] for m in processed_list]\n",
    "    print(f\"B {metric} winner: {100.0 * np.mean([m =='B' for m in metric_list])} %\")\n",
    "    print(f\"\\t simulations with no winner: {100.0 * np.mean([m == None for m in metric_list])}%\")"
   ]
  },
  {
   "cell_type": "markdown",
   "metadata": {},
   "source": [
    "### Changing Revenue"
   ]
  },
  {
   "cell_type": "code",
   "execution_count": 44,
   "metadata": {},
   "outputs": [
    {
     "name": "stderr",
     "output_type": "stream",
     "text": [
      "100%|██████████████████████████████████████████████████████████████████████████████████████████████| 100/100 [09:04<00:00,  5.44s/it]\n"
     ]
    }
   ],
   "source": [
    "from tqdm import tqdm\n",
    "import multiprocessing\n",
    "from joblib import Parallel, delayed\n",
    "import numpy as np\n",
    "\n",
    "N_SIMULATIONS = 100\n",
    "\n",
    "size = 1500\n",
    "pA = 0.05\n",
    "pB = 0.05\n",
    "mu_revenueA = 20.0\n",
    "mu_revenueB = 30.0\n",
    "epsilon = 0.025\n",
    "\n",
    "\n",
    "num_cores = multiprocessing.cpu_count()\n",
    "\n",
    "\n",
    "def get_data(p, size, mu):\n",
    "    lambdas = np.random.binomial(1, p, size)\n",
    "    revenues = np.random.exponential(mu, size)\n",
    "    \n",
    "    return (lambdas, revenues)\n",
    "\n",
    "\n",
    "def generate_df(pA, pB, mu_revenueA, mu_revenueB, size):\n",
    "    a_lambda, a_revenue = get_data(pA, size, mu_revenueA)\n",
    "    b_lambda, b_revenue = get_data(pB, size, mu_revenueB)\n",
    "\n",
    "    dfA = pd.DataFrame(data={\n",
    "        \"alternative\": ['A']*size,\n",
    "        \"revenue\": a_revenue, \n",
    "        \"sales\": a_lambda\n",
    "    })\n",
    "    dfB = pd.DataFrame(data={\n",
    "        \"alternative\": ['B']*size,\n",
    "        \"revenue\": b_revenue, \n",
    "        \"sales\": b_lambda\n",
    "    })\n",
    "\n",
    "    df3 = pd.concat([dfA, dfB])\n",
    "    df3['sum_revenue'] = df3['revenue']\n",
    "    \n",
    "    return df3\n",
    "\n",
    "\n",
    "list_of_dataframes = [generate_df(pA, pB, mu_revenueA, mu_revenueB, size) for _ in range(N_SIMULATIONS)]\n",
    "inputs = tqdm(list_of_dataframes)\n",
    "\n",
    "\n",
    "def run_one_experiment(df):\n",
    "    df = df.copy()\n",
    "    experiment = Experiment(name=\"A/B Test\",\n",
    "                           keymetrics=['conversion', 'revenue', 'arpu'],\n",
    "                           baseline_variant_name='A')\n",
    "    results = experiment.run_experiment(df_results_per_user=df)\n",
    "    \n",
    "    # return the winner if some loss that is lower than epsilon, if any\n",
    "    winners = []\n",
    "    for metric in ['conversion', 'revenue', 'arpu']:\n",
    "        lossA = results['A']['statistics'][metric]['expected_loss']\n",
    "        lossB = results['B']['statistics'][metric]['expected_loss']\n",
    "        if lossA < lossB and lossA < epsilon:\n",
    "            winners.append('A')\n",
    "        elif lossB < lossA and lossB < epsilon:\n",
    "            winners.append('B')\n",
    "        else:\n",
    "            winners.append(None)\n",
    "    \n",
    "    return winners\n",
    "        \n",
    "processed_list_2 = Parallel(n_jobs=num_cores)(delayed(run_one_experiment)(df) for df in inputs)"
   ]
  },
  {
   "cell_type": "code",
   "execution_count": 45,
   "metadata": {},
   "outputs": [
    {
     "name": "stdout",
     "output_type": "stream",
     "text": [
      "conversion: 56.00000000000001 %\n",
      "\t simulations with no winner: 0.0\n",
      "revenue: 0.0 %\n",
      "\t simulations with no winner: 100.0\n",
      "arpu: 0.0 %\n",
      "\t simulations with no winner: 100.0\n"
     ]
    }
   ],
   "source": [
    "for i, metric in enumerate(['conversion', 'revenue', 'arpu']):\n",
    "    metric_list = [m[i] for m in processed_list_2]\n",
    "    print(f\"{metric}: {100.0 * np.mean([m =='B' for m in metric_list])} %\")\n",
    "    print(f\"\\t simulations with no winner: {100.0 * np.mean([m == None for m in metric_list])}\")"
   ]
  },
  {
   "cell_type": "markdown",
   "metadata": {},
   "source": [
    "### A/A Test"
   ]
  },
  {
   "cell_type": "code",
   "execution_count": 46,
   "metadata": {},
   "outputs": [
    {
     "name": "stderr",
     "output_type": "stream",
     "text": [
      "100%|██████████████████████████████████████████████████████████████████████████████████████████████| 100/100 [08:54<00:00,  5.34s/it]\n"
     ]
    }
   ],
   "source": [
    "from tqdm import tqdm\n",
    "import multiprocessing\n",
    "from joblib import Parallel, delayed\n",
    "import numpy as np\n",
    "\n",
    "N_SIMULATIONS = 100\n",
    "\n",
    "size = 1500\n",
    "pA = 0.05\n",
    "pB = 0.05\n",
    "mu_revenueA = 20.0\n",
    "mu_revenueB = 20.0\n",
    "epsilon = 0.025\n",
    "\n",
    "num_cores = multiprocessing.cpu_count()\n",
    "\n",
    "\n",
    "def get_data(p, size, mu):\n",
    "    lambdas = np.random.binomial(1, p, size)\n",
    "    revenues = np.random.exponential(mu, size)\n",
    "    \n",
    "    return (lambdas, revenues)\n",
    "\n",
    "\n",
    "def generate_df(pA, pB, mu_revenueA, mu_revenueB, size):\n",
    "    a_lambda, a_revenue = get_data(pA, size, mu_revenueA)\n",
    "    b_lambda, b_revenue = get_data(pB, size, mu_revenueB)\n",
    "\n",
    "    dfA = pd.DataFrame(data={\n",
    "        \"alternative\": ['A']*size,\n",
    "        \"revenue\": a_revenue, \n",
    "        \"sales\": a_lambda\n",
    "    })\n",
    "    dfB = pd.DataFrame(data={\n",
    "        \"alternative\": ['B']*size,\n",
    "        \"revenue\": b_revenue, \n",
    "        \"sales\": b_lambda\n",
    "    })\n",
    "\n",
    "    df3 = pd.concat([dfA, dfB])\n",
    "    df3['sum_revenue'] = df3['revenue']\n",
    "    \n",
    "    return df3\n",
    "\n",
    "\n",
    "list_of_dataframes = [generate_df(pA, pB, mu_revenueA, mu_revenueB, size) for _ in range(N_SIMULATIONS)]\n",
    "inputs = tqdm(list_of_dataframes)\n",
    "\n",
    "\n",
    "def run_one_experiment(df):\n",
    "    df = df.copy()\n",
    "    experiment = Experiment(name=\"A/B Test\",\n",
    "                           keymetrics=['conversion', 'revenue', 'arpu'],\n",
    "                           baseline_variant_name='A')\n",
    "    results = experiment.run_experiment(df_results_per_user=df)\n",
    "    \n",
    "    # return the winner if some loss that is lower than epsilon, if any\n",
    "    winners = []\n",
    "    for metric in ['conversion', 'revenue', 'arpu']:\n",
    "        lossA = results['A']['statistics'][metric]['expected_loss']\n",
    "        lossB = results['B']['statistics'][metric]['expected_loss']\n",
    "        if lossA < lossB and lossA < epsilon:\n",
    "            winners.append('A')\n",
    "        elif lossB < lossA and lossB < epsilon:\n",
    "            winners.append('B')\n",
    "        else:\n",
    "            winners.append(None)\n",
    "    \n",
    "    return winners\n",
    "        \n",
    "processed_list_3 = Parallel(n_jobs=num_cores)(delayed(run_one_experiment)(df) for df in inputs)"
   ]
  },
  {
   "cell_type": "code",
   "execution_count": 47,
   "metadata": {},
   "outputs": [
    {
     "name": "stdout",
     "output_type": "stream",
     "text": [
      "conversion: 55.00000000000001 %\n",
      "\t simulations with no winner: 0.0\n",
      "revenue: 0.0 %\n",
      "\t simulations with no winner: 100.0\n",
      "arpu: 0.0 %\n",
      "\t simulations with no winner: 100.0\n"
     ]
    }
   ],
   "source": [
    "for i, metric in enumerate(['conversion', 'revenue', 'arpu']):\n",
    "    metric_list = [m[i] for m in processed_list_3]\n",
    "    print(f\"{metric}: {100.0 * np.mean([m =='B' for m in metric_list])} %\")\n",
    "    print(f\"\\t simulations with no winner: {100.0 * np.mean([m == None for m in metric_list])}\")"
   ]
  }
 ],
 "metadata": {
  "kernelspec": {
   "display_name": "Python 3 (ipykernel)",
   "language": "python",
   "name": "python3"
  },
  "language_info": {
   "codemirror_mode": {
    "name": "ipython",
    "version": 3
   },
   "file_extension": ".py",
   "mimetype": "text/x-python",
   "name": "python",
   "nbconvert_exporter": "python",
   "pygments_lexer": "ipython3",
   "version": "3.10.4"
  },
  "toc": {
   "base_numbering": 1,
   "nav_menu": {
    "height": "177px",
    "width": "290px"
   },
   "number_sections": true,
   "sideBar": true,
   "skip_h1_title": false,
   "title_cell": "Table of Contents",
   "title_sidebar": "Contents",
   "toc_cell": false,
   "toc_position": {},
   "toc_section_display": true,
   "toc_window_display": true
  }
 },
 "nbformat": 4,
 "nbformat_minor": 2
}
