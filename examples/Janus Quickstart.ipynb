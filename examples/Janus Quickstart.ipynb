{
 "cells": [
  {
   "cell_type": "code",
   "execution_count": 3,
   "id": "e8bdc8bd-9e3d-40eb-9611-6a01262c679d",
   "metadata": {},
   "outputs": [],
   "source": [
    "from janus.variant import Variant\n",
    "from janus.experiment import WebsiteExperiment"
   ]
  },
  {
   "cell_type": "markdown",
   "id": "c03f6704",
   "metadata": {},
   "source": [
    "## Simulate an Experiment\n",
    "\n",
    "Let's simulate an experiment of a website with two variants A and B with known conversion rates and revenues, where B has higher conversion but lower ARPU.\n"
   ]
  },
  {
   "cell_type": "code",
   "execution_count": 17,
   "id": "144ca62e-1e6e-427e-b9c5-e9175a000464",
   "metadata": {},
   "outputs": [
    {
     "data": {
      "text/plain": [
       "[Variant(name='A', impressions=1000, conversions=100, revenue=10000),\n",
       " Variant(name='B', impressions=1000, conversions=120, revenue=9000)]"
      ]
     },
     "execution_count": 17,
     "metadata": {},
     "output_type": "execute_result"
    }
   ],
   "source": [
    "# Define your variants\n",
    "data = {\n",
    "    \"A\": {\"impressions\": 1000, \"conversion_rate\": 0.10, \"revenue\": 10000},\n",
    "    \"B\": {\"impressions\": 1000, \"conversion_rate\": 0.12, \"revenue\": 9000}\n",
    "\n",
    "}\n",
    "\n",
    "variants = []\n",
    "for name, data in data.items(): \n",
    "    variants.append(\n",
    "        Variant(\n",
    "            name=name,\n",
    "            impressions=data[\"impressions\"], \n",
    "            conversions=int(data[\"conversion_rate\"] * data[\"impressions\"]), \n",
    "            revenue=data[\"revenue\"]\n",
    "        )\n",
    "    )\n",
    "\n",
    "variants"
   ]
  },
  {
   "cell_type": "code",
   "execution_count": 18,
   "id": "a938bfc4-9c8e-4c93-87bf-d2318fb1704c",
   "metadata": {},
   "outputs": [
    {
     "data": {
      "text/plain": [
       "<janus.experiment.WebsiteExperiment at 0x12af11a10>"
      ]
     },
     "execution_count": 18,
     "metadata": {},
     "output_type": "execute_result"
    }
   ],
   "source": [
    "# Create an experiment\n",
    "experiment = WebsiteExperiment(variants, baseline_variant=\"A\")\n",
    "experiment"
   ]
  },
  {
   "cell_type": "code",
   "execution_count": 20,
   "id": "cbc2cbaf-aa0a-45c4-a5a4-7bbb34d962fa",
   "metadata": {},
   "outputs": [],
   "source": [
    "# Run the experiments\n",
    "experiment.run()"
   ]
  },
  {
   "cell_type": "code",
   "execution_count": 21,
   "id": "3f1a2bcc-bb09-4da4-862b-5d5d41c33f55",
   "metadata": {},
   "outputs": [
    {
     "name": "stdout",
     "output_type": "stream",
     "text": [
      "---------------- Summary ----------------\n",
      "+-------------+-------------+------------+\n",
      "|             |           A |          B |\n",
      "+=============+=============+============+\n",
      "| impressions |        1000 |       1000 |\n",
      "+-------------+-------------+------------+\n",
      "| conversions |         100 |        120 |\n",
      "+-------------+-------------+------------+\n",
      "|     revenue | R$10,000.00 | R$9,000.00 |\n",
      "+-------------+-------------+------------+\n",
      "|  conversion |         0.1 |       0.12 |\n",
      "+-------------+-------------+------------+\n",
      "|  avg_ticket |    R$100.00 |    R$75.00 |\n",
      "+-------------+-------------+------------+\n",
      "|        arpu |     R$10.00 |     R$9.00 |\n",
      "+-------------+-------------+------------+\n",
      "----------- Conversion Stats -----------\n",
      "+-----------------+--------+--------+\n",
      "|                 |      A |      B |\n",
      "+=================+========+========+\n",
      "|   expected_loss | 0.0206 | 0.0005 |\n",
      "+-----------------+--------+--------+\n",
      "| prob_being_best | 0.0786 | 0.9214 |\n",
      "+-----------------+--------+--------+\n",
      "|            lift |    0.0 |    0.2 |\n",
      "+-----------------+--------+--------+\n",
      "-------------- ARPU Stats --------------\n",
      "+-----------------+--------+--------+\n",
      "|                 |      A |      B |\n",
      "+=================+========+========+\n",
      "|   expected_loss | R$0.14 | R$1.15 |\n",
      "+-----------------+--------+--------+\n",
      "| prob_being_best | 0.7936 | 0.2064 |\n",
      "+-----------------+--------+--------+\n",
      "|            lift |    0.0 |   -0.1 |\n",
      "+-----------------+--------+--------+\n"
     ]
    }
   ],
   "source": [
    "# Print the reports\n",
    "experiment.print_reports()"
   ]
  },
  {
   "cell_type": "code",
   "execution_count": null,
   "id": "790f9a7d-60f8-4a3a-86dc-abf8a74eacf3",
   "metadata": {},
   "outputs": [],
   "source": []
  },
  {
   "cell_type": "code",
   "execution_count": null,
   "id": "8b3d5f2c-3287-420d-b6f9-c66d3bbd87f2",
   "metadata": {},
   "outputs": [],
   "source": []
  }
 ],
 "metadata": {
  "kernelspec": {
   "display_name": "Python 3 (ipykernel)",
   "language": "python",
   "name": "python3"
  },
  "language_info": {
   "codemirror_mode": {
    "name": "ipython",
    "version": 3
   },
   "file_extension": ".py",
   "mimetype": "text/x-python",
   "name": "python",
   "nbconvert_exporter": "python",
   "pygments_lexer": "ipython3",
   "version": "3.11.4"
  }
 },
 "nbformat": 4,
 "nbformat_minor": 5
}
