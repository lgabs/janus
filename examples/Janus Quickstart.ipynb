{
 "cells": [
  {
   "cell_type": "code",
   "execution_count": 2,
   "id": "c63d45d7-dfbb-454b-95ea-318a9fc61c05",
   "metadata": {},
   "outputs": [
    {
     "name": "stdout",
     "output_type": "stream",
     "text": [
      "Python 3.11.4\n"
     ]
    }
   ],
   "source": [
    "!python -V"
   ]
  },
  {
   "cell_type": "code",
   "execution_count": 3,
   "id": "3e3057ac-f2c4-4bf0-b3fd-92168be1cf23",
   "metadata": {},
   "outputs": [
    {
     "name": "stdout",
     "output_type": "stream",
     "text": [
      "/Users/luanfernandes/Library/Caches/pypoetry/virtualenvs/janus-FOytcSKO-py3.11/bin/python\n"
     ]
    }
   ],
   "source": [
    "!which python"
   ]
  },
  {
   "cell_type": "code",
   "execution_count": 4,
   "id": "e8bdc8bd-9e3d-40eb-9611-6a01262c679d",
   "metadata": {},
   "outputs": [],
   "source": [
    "from janus.variant import Variant\n",
    "from janus.experiment import WebsiteExperiment"
   ]
  },
  {
   "cell_type": "code",
   "execution_count": 11,
   "id": "b285590d-f523-4c91-bf33-adb7184d3389",
   "metadata": {},
   "outputs": [
    {
     "data": {
      "text/plain": [
       "10.0"
      ]
     },
     "execution_count": 11,
     "metadata": {},
     "output_type": "execute_result"
    }
   ],
   "source": [
    "10000/1000"
   ]
  },
  {
   "cell_type": "code",
   "execution_count": 14,
   "id": "144ca62e-1e6e-427e-b9c5-e9175a000464",
   "metadata": {},
   "outputs": [
    {
     "data": {
      "text/plain": [
       "[Variant(name='A', impressions=1000, conversions=100, revenue=10000),\n",
       " Variant(name='B', impressions=1000, conversions=110, revenue=9000)]"
      ]
     },
     "execution_count": 14,
     "metadata": {},
     "output_type": "execute_result"
    }
   ],
   "source": [
    "# Define your variants\n",
    "variants = [\n",
    "    Variant(name=\"A\", impressions=1000, conversions=100, revenue=10000), # 10% conversion rate and $10 per visit\n",
    "    Variant(name=\"B\", impressions=1000, conversions=110, revenue=9000)  # 11% conversion rate and $9 per visit\n",
    "]\n",
    "\n",
    "variants"
   ]
  },
  {
   "cell_type": "code",
   "execution_count": 15,
   "id": "a938bfc4-9c8e-4c93-87bf-d2318fb1704c",
   "metadata": {},
   "outputs": [
    {
     "data": {
      "text/plain": [
       "<janus.experiment.WebsiteExperiment at 0x129e9a1d0>"
      ]
     },
     "execution_count": 15,
     "metadata": {},
     "output_type": "execute_result"
    }
   ],
   "source": [
    "# Create an experiment\n",
    "experiment = WebsiteExperiment(variants, baseline_variant=\"A\")\n",
    "experiment"
   ]
  },
  {
   "cell_type": "code",
   "execution_count": 16,
   "id": "cbc2cbaf-aa0a-45c4-a5a4-7bbb34d962fa",
   "metadata": {},
   "outputs": [],
   "source": [
    "# Run the experiments\n",
    "experiment.run()"
   ]
  },
  {
   "cell_type": "code",
   "execution_count": 17,
   "id": "3f1a2bcc-bb09-4da4-862b-5d5d41c33f55",
   "metadata": {},
   "outputs": [
    {
     "name": "stdout",
     "output_type": "stream",
     "text": [
      "---------------- Summary ----------------\n",
      "+-------------+-------------+------------+\n",
      "|             |           A |          B |\n",
      "+=============+=============+============+\n",
      "| impressions |        1000 |       1000 |\n",
      "+-------------+-------------+------------+\n",
      "| conversions |         100 |        110 |\n",
      "+-------------+-------------+------------+\n",
      "|     revenue | R$10,000.00 | R$9,000.00 |\n",
      "+-------------+-------------+------------+\n",
      "|  conversion |         0.1 |       0.11 |\n",
      "+-------------+-------------+------------+\n",
      "|  avg_ticket |    R$100.00 |    R$81.82 |\n",
      "+-------------+-------------+------------+\n",
      "|        arpu |     R$10.00 |     R$9.00 |\n",
      "+-------------+-------------+------------+\n",
      "----------- Conversion Stats -----------\n",
      "+-----------------+--------+--------+\n",
      "|                 |      A |      B |\n",
      "+=================+========+========+\n",
      "|   expected_loss | 0.0119 | 0.0018 |\n",
      "+-----------------+--------+--------+\n",
      "| prob_being_best | 0.2266 | 0.7734 |\n",
      "+-----------------+--------+--------+\n",
      "|            lift |    0.0 |    0.1 |\n",
      "+-----------------+--------+--------+\n",
      "-------------- ARPU Stats --------------\n",
      "+-----------------+--------+--------+\n",
      "|                 |      A |      B |\n",
      "+=================+========+========+\n",
      "|   expected_loss | R$0.14 | R$1.16 |\n",
      "+-----------------+--------+--------+\n",
      "| prob_being_best | 0.7896 | 0.2104 |\n",
      "+-----------------+--------+--------+\n",
      "|            lift |    0.0 |   -0.1 |\n",
      "+-----------------+--------+--------+\n"
     ]
    }
   ],
   "source": [
    "# Print the reports\n",
    "experiment.print_reports()"
   ]
  },
  {
   "cell_type": "code",
   "execution_count": null,
   "id": "790f9a7d-60f8-4a3a-86dc-abf8a74eacf3",
   "metadata": {},
   "outputs": [],
   "source": []
  },
  {
   "cell_type": "code",
   "execution_count": null,
   "id": "8b3d5f2c-3287-420d-b6f9-c66d3bbd87f2",
   "metadata": {},
   "outputs": [],
   "source": []
  }
 ],
 "metadata": {
  "kernelspec": {
   "display_name": "Python 3 (ipykernel)",
   "language": "python",
   "name": "python3"
  },
  "language_info": {
   "codemirror_mode": {
    "name": "ipython",
    "version": 3
   },
   "file_extension": ".py",
   "mimetype": "text/x-python",
   "name": "python",
   "nbconvert_exporter": "python",
   "pygments_lexer": "ipython3",
   "version": "3.11.4"
  }
 },
 "nbformat": 4,
 "nbformat_minor": 5
}
